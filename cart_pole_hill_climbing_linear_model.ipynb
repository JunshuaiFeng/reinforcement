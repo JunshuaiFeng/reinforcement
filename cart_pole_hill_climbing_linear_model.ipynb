{
 "cells": [
  {
   "cell_type": "markdown",
   "metadata": {},
   "source": [
    "# Hill climbing search for successful linear model agent for cart pole environment #"
   ]
  },
  {
   "cell_type": "code",
   "execution_count": 1,
   "metadata": {},
   "outputs": [],
   "source": [
    "import gym\n",
    "import numpy as np\n",
    "\n",
    "%matplotlib inline\n",
    "import matplotlib.pyplot as plt\n",
    "\n",
    "import time"
   ]
  },
  {
   "cell_type": "code",
   "execution_count": 2,
   "metadata": {},
   "outputs": [],
   "source": [
    "env = gym.make(\"CartPole-v1\")"
   ]
  },
  {
   "cell_type": "markdown",
   "metadata": {},
   "source": [
    "## Evaluate linear model agent for one episode ##"
   ]
  },
  {
   "cell_type": "code",
   "execution_count": 3,
   "metadata": {},
   "outputs": [],
   "source": [
    "# run one episode \n",
    "def run_episode(weight_vector):\n",
    "    state = env.reset()\n",
    "    total_reward = 0\n",
    "    for _ in np.arange(200):\n",
    "        # state is a four dimensional vector\n",
    "        # weight vector is also a four dimensional vector\n",
    "        # the action is 0 if the inner product of weight vector and state is negative \n",
    "        #               1                                                    non-negative\n",
    "        action = 0 if np.matmul(weight_vector, state) < 0 else 1\n",
    "        state, reward, done, _ = env.step(action)\n",
    "        total_reward += reward\n",
    "        if done:\n",
    "            break\n",
    "    return total_reward"
   ]
  },
  {
   "cell_type": "markdown",
   "metadata": {},
   "source": [
    "## Keep hill climbing till finding successful linear model agent ##"
   ]
  },
  {
   "cell_type": "code",
   "execution_count": 4,
   "metadata": {},
   "outputs": [],
   "source": [
    "# noise parameter\n",
    "delta = 0.1\n",
    "\n",
    "def get_random_vector():\n",
    "    return np.random.rand(4) * 2.0 - 1.0\n",
    "           \n",
    "def normalize_vector(vector):\n",
    "    return vector / np.linalg.norm(vector)"
   ]
  },
  {
   "cell_type": "code",
   "execution_count": 5,
   "metadata": {},
   "outputs": [],
   "source": [
    "def hill_climbing_till_success():\n",
    "    counter = 1\n",
    "    # initial random weight vector\n",
    "    best_weight_vector = normalize_vector(get_random_vector())\n",
    "    best_total_reward = run_episode(best_weight_vector)\n",
    "    attempts = 0\n",
    "    \n",
    "    # improve weight vector until success\n",
    "    while best_total_reward < 200:\n",
    "        \n",
    "        counter += 1    \n",
    "        \n",
    "        if attempts < 5:\n",
    "            # add small noise vector to current best weight vector\n",
    "            weight_vector = normalize_vector(best_weight_vector + delta * get_random_vector())\n",
    "            attempts += 1\n",
    "        else:\n",
    "            # failed to improve after 10 attempts, choose new random weight vector \n",
    "            weight_vector = normalize_vector(get_random_vector())\n",
    "            attempts = 0\n",
    "        \n",
    "        total_reward = run_episode(weight_vector)\n",
    "\n",
    "        # keep new weight vector if it performs better\n",
    "        if total_reward > best_total_reward:\n",
    "            best_total_reward = total_reward\n",
    "            best_weight_vector = weight_vector\n",
    "            attempts = 0\n",
    "            \n",
    "    return counter, best_weight_vector"
   ]
  },
  {
   "cell_type": "markdown",
   "metadata": {},
   "source": [
    "## Plot histogram ##"
   ]
  },
  {
   "cell_type": "code",
   "execution_count": 6,
   "metadata": {},
   "outputs": [
    {
     "data": {
      "image/png": "[encoded data removed]",
      "text/plain": [
       "<Figure size 432x288 with 1 Axes>"
      ]
     },
     "metadata": {},
     "output_type": "display_data"
    },
    {
     "name": "stdout",
     "output_type": "stream",
     "text": [
      "Average number till success: 43.7\n"
     ]
    }
   ],
   "source": [
    "# create graphs\n",
    "counters = []\n",
    "for i in np.arange(1000):\n",
    "    counters.append((hill_climbing_till_success())[0])\n",
    "\n",
    "#https://matplotlib.org/gallery/statistics/histogram_features.html?highlight=histogram\n",
    "plt.hist(counters, 50)\n",
    "plt.xlabel('Guesses required')\n",
    "plt.ylabel('Frequency')\n",
    "plt.title('Histogram of random search for successful linear model agent')\n",
    "plt.show()\n",
    "\n",
    "print(\"Average number till success:\", np.average(counters))"
   ]
  },
  {
   "cell_type": "markdown",
   "metadata": {},
   "source": [
    "## Plot successful linear model agent ##"
   ]
  },
  {
   "cell_type": "code",
   "execution_count": 7,
   "metadata": {},
   "outputs": [],
   "source": [
    "counter, weight_vector = hill_climbing_till_success()"
   ]
  },
  {
   "cell_type": "code",
   "execution_count": 8,
   "metadata": {},
   "outputs": [
    {
     "name": "stdout",
     "output_type": "stream",
     "text": [
      "Number of guesses: 39\n",
      "Weight vector: [0.18887961 0.36574134 0.8702402  0.27062845]\n"
     ]
    }
   ],
   "source": [
    "print(\"Number of guesses:\", counter)\n",
    "print(\"Weight vector:\", weight_vector)"
   ]
  },
  {
   "cell_type": "code",
   "execution_count": 9,
   "metadata": {},
   "outputs": [
    {
     "name": "stdout",
     "output_type": "stream",
     "text": [
      "Total reward: 200.0\n"
     ]
    }
   ],
   "source": [
    "total_reward = 0\n",
    "done = False\n",
    "state = env.reset()\n",
    "env.render()\n",
    "time.sleep(0.1)\n",
    "\n",
    "for _ in np.arange(200):\n",
    "    action = 0 if np.matmul(weight_vector, state) < 0 else 1\n",
    "    state, reward, done, _ = env.step(action)\n",
    "    total_reward += reward\n",
    "    env.render()\n",
    "    time.sleep(0.1)\n",
    "    if done: break\n",
    "    \n",
    "env.close()\n",
    "print(\"Total reward:\", total_reward)"
   ]
  },
  {
   "cell_type": "code",
   "execution_count": null,
   "metadata": {},
   "outputs": [],
   "source": []
  }
 ],
 "metadata": {
  "kernelspec": {
   "display_name": "Python 3",
   "language": "python",
   "name": "python3"
  },
  "language_info": {
   "codemirror_mode": {
    "name": "ipython",
    "version": 3
   },
   "file_extension": ".py",
   "mimetype": "text/x-python",
   "name": "python",
   "nbconvert_exporter": "python",
   "pygments_lexer": "ipython3",
   "version": "3.6.5"
  }
 },
 "nbformat": 4,
 "nbformat_minor": 2
}
