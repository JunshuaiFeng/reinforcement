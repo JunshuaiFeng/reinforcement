{
 "cells": [
  {
   "cell_type": "markdown",
   "metadata": {},
   "source": [
    "# 01_mountain_car_policy#\n",
    "### Task: Implement an explicit policy for the mountain car environment without using any learning algorithm. Explain in detail your reasoning behind your policy and run several test episodes to measure its performance."
   ]
  },
  {
   "cell_type": "markdown",
   "metadata": {},
   "source": [
    "## Initialization"
   ]
  },
  {
   "cell_type": "code",
   "execution_count": 3,
   "metadata": {
    "scrolled": true
   },
   "outputs": [
    {
     "name": "stdout",
     "output_type": "stream",
     "text": [
      "\u001b[33mWARN: gym.spaces.Box autodetected dtype as <class 'numpy.float32'>. Please provide explicit dtype.\u001b[0m\n"
     ]
    }
   ],
   "source": [
    "import gym\n",
    "\n",
    "env = gym.make('MountainCar-v0')"
   ]
  },
  {
   "cell_type": "markdown",
   "metadata": {},
   "source": [
    "## Algorithm"
   ]
  },
  {
   "cell_type": "code",
   "execution_count": 4,
   "metadata": {
    "scrolled": true
   },
   "outputs": [
    {
     "name": "stdout",
     "output_type": "stream",
     "text": [
      "Episode 0 finished after 161 timesteps.\n",
      "Episode 1 finished after 164 timesteps.\n",
      "Episode 2 finished after 90 timesteps.\n",
      "Episode 3 finished after 165 timesteps.\n",
      "Episode 4 finished after 94 timesteps.\n",
      "Done!\n"
     ]
    }
   ],
   "source": [
    "for i_episode in range(5):\n",
    "    observation = env.reset() # observation = [position, velocity]\n",
    "    for t in range(200):\n",
    "        env.render()\n",
    "        \n",
    "        #if car is on the right, push left, and vise versa\n",
    "        action = 2 if observation[1] > 0 else 0\n",
    "        observation, reward, done, _ = env.step(action)\n",
    "        if done:\n",
    "            print(\"Episode {} finished after {} timesteps.\".format(i_episode, t+1))\n",
    "            break\n",
    "    env.close()\n",
    "    \n",
    "print(\"Done!\")"
   ]
  },
  {
   "cell_type": "code",
   "execution_count": null,
   "metadata": {},
   "outputs": [],
   "source": []
  }
 ],
 "metadata": {
  "kernelspec": {
   "display_name": "Python 3",
   "language": "python",
   "name": "python3"
  },
  "language_info": {
   "codemirror_mode": {
    "name": "ipython",
    "version": 3
   },
   "file_extension": ".py",
   "mimetype": "text/x-python",
   "name": "python",
   "nbconvert_exporter": "python",
   "pygments_lexer": "ipython3",
   "version": "3.6.4"
  }
 },
 "nbformat": 4,
 "nbformat_minor": 2
}
