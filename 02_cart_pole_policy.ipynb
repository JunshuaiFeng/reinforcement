{
 "cells": [
  {
   "cell_type": "markdown",
   "metadata": {},
   "source": [
    "# 02_cart_pole_policy\n",
    "Task: Implement an explicit policy for the cartpole environment without using any learning algorithm. Explain in detail your reasoning behind your policy and run several test episodes to measure its performance."
   ]
  },
  {
   "cell_type": "markdown",
   "metadata": {},
   "source": [
    "## Initialization"
   ]
  },
  {
   "cell_type": "code",
   "execution_count": 2,
   "metadata": {
    "scrolled": true
   },
   "outputs": [],
   "source": [
    "import gym\n",
    "\n",
    "env = gym.make('CartPole-v0')"
   ]
  },
  {
   "cell_type": "markdown",
   "metadata": {},
   "source": [
    "## Algorithm"
   ]
  },
  {
   "cell_type": "code",
   "execution_count": 12,
   "metadata": {
    "scrolled": true
   },
   "outputs": [
    {
     "name": "stdout",
     "output_type": "stream",
     "text": [
      "Episode 0 finished after 200 timesteps.\n",
      "Episode 1 finished after 200 timesteps.\n",
      "Episode 2 finished after 200 timesteps.\n",
      "Episode 3 finished after 200 timesteps.\n",
      "Episode 4 finished after 200 timesteps.\n",
      "Episode 5 finished after 200 timesteps.\n",
      "Episode 6 finished after 200 timesteps.\n",
      "Episode 7 finished after 200 timesteps.\n",
      "Episode 8 finished after 200 timesteps.\n",
      "Episode 9 finished after 200 timesteps.\n",
      "\n",
      "Success Rate: 100%\n"
     ]
    }
   ],
   "source": [
    "totalReward = 0\n",
    "numEpisodes = 10\n",
    "\n",
    "for i_episode in range(numEpisodes):\n",
    "    # observation includes [cart position, cart velocity, pole angle, pole tip velocity]\n",
    "    observation = env.reset()\n",
    "    for t in range(200):\n",
    "        env.render()\n",
    "\n",
    "        # action: 0 = left; 1 = right\n",
    "        action = int((observation[2] + observation[3]*0.1) > 0)\n",
    "        observation, reward, done, _ = env.step(action)\n",
    "        if done:\n",
    "            if t+1 == 200: # win\n",
    "                totalReward += 1\n",
    "            print(\"Episode {} finished after {} timesteps.\".format(i_episode, t+1))\n",
    "            break\n",
    "    env.close()\n",
    "    \n",
    "print(\"\\nSuccess Rate: {}%\".format(int(totalReward * 100 /numEpisodes)))"
   ]
  },
  {
   "cell_type": "code",
   "execution_count": null,
   "metadata": {},
   "outputs": [],
   "source": []
  }
 ],
 "metadata": {
  "kernelspec": {
   "display_name": "Python 3",
   "language": "python",
   "name": "python3"
  },
  "language_info": {
   "codemirror_mode": {
    "name": "ipython",
    "version": 3
   },
   "file_extension": ".py",
   "mimetype": "text/x-python",
   "name": "python",
   "nbconvert_exporter": "python",
   "pygments_lexer": "ipython3",
   "version": "3.6.4"
  }
 },
 "nbformat": 4,
 "nbformat_minor": 2
}
